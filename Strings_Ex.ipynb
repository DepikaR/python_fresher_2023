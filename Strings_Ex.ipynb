{
  "cells": [
    {
      "cell_type": "markdown",
      "metadata": {
        "id": "view-in-github",
        "colab_type": "text"
      },
      "source": [
        "<a href=\"https://colab.research.google.com/github/DepikaR/python_fresher_2023/blob/main/Strings_Ex.ipynb\" target=\"_parent\"><img src=\"https://colab.research.google.com/assets/colab-badge.svg\" alt=\"Open In Colab\"/></a>"
      ]
    },
    {
      "cell_type": "markdown",
      "metadata": {
        "id": "7G7NpTuxmasO"
      },
      "source": [
        "## Strings"
      ]
    },
    {
      "cell_type": "markdown",
      "metadata": {
        "id": "rc52pev6masR"
      },
      "source": [
        "Assign the value of 100 to the variable \"m\"."
      ]
    },
    {
      "cell_type": "code",
      "execution_count": null,
      "metadata": {
        "id": "tEZR8ufmmasS"
      },
      "outputs": [],
      "source": [
        "m=100"
      ]
    },
    {
      "cell_type": "markdown",
      "metadata": {
        "id": "ZdUjZL8nmasS"
      },
      "source": [
        "With the help of the variable \"m\", write one line of code where the output after executuion would be *100 days*.\n",
        "\n",
        "*Hint:* *You could provide four answers to this question!*"
      ]
    },
    {
      "cell_type": "code",
      "execution_count": null,
      "metadata": {
        "id": "5AO4ff3-masT",
        "outputId": "29061940-166e-4e75-fd73-410d344be313"
      },
      "outputs": [
        {
          "name": "stdout",
          "output_type": "stream",
          "text": [
            "100 days\n"
          ]
        }
      ],
      "source": [
        "print(m,\"days\")"
      ]
    },
    {
      "cell_type": "code",
      "execution_count": null,
      "metadata": {
        "id": "jZO38glFmasU",
        "outputId": "a68b87bc-b5d5-451c-96c2-43ecfe7d932d"
      },
      "outputs": [
        {
          "name": "stdout",
          "output_type": "stream",
          "text": [
            "100days\n"
          ]
        }
      ],
      "source": [
        "n=str(m)\n",
        "n\n",
        "o=\"days\"\n",
        "print(n+o)"
      ]
    },
    {
      "cell_type": "code",
      "execution_count": null,
      "metadata": {
        "id": "UVIEwsh4masU",
        "outputId": "e06197d5-19fc-4f8e-ad3f-a9bd1cfad5fa"
      },
      "outputs": [
        {
          "name": "stdout",
          "output_type": "stream",
          "text": [
            "100 days\n"
          ]
        }
      ],
      "source": [
        "print(m,o)"
      ]
    },
    {
      "cell_type": "markdown",
      "metadata": {
        "id": "2k5Plev0masU"
      },
      "source": [
        "Produce an output equal to *It's cool, isn't it?*"
      ]
    },
    {
      "cell_type": "code",
      "execution_count": null,
      "metadata": {
        "id": "XqL1RUkBmasU",
        "outputId": "4e591714-7c16-4fbc-ba7f-9854b9c1c4b1"
      },
      "outputs": [
        {
          "name": "stdout",
          "output_type": "stream",
          "text": [
            "It's cool, isn't it?\n"
          ]
        }
      ],
      "source": [
        "print(\"It's cool, isn't it?\")\n"
      ]
    },
    {
      "cell_type": "markdown",
      "metadata": {
        "id": "dTL9aAGVmasV"
      },
      "source": [
        "Fix the string below."
      ]
    },
    {
      "cell_type": "code",
      "execution_count": null,
      "metadata": {
        "id": "AgFdxDIXmasV",
        "outputId": "3593f84f-e3e4-4abf-fd83-230f22cb43b3"
      },
      "outputs": [
        {
          "data": {
            "text/plain": [
              "\"'Don't be shy\""
            ]
          },
          "execution_count": 10,
          "metadata": {},
          "output_type": "execute_result"
        }
      ],
      "source": [
        "\"'Don't be shy\""
      ]
    },
    {
      "cell_type": "markdown",
      "metadata": {
        "id": "jX-4i6pzmasV"
      },
      "source": [
        "Produce an output equal to *Click \"OK\"*."
      ]
    },
    {
      "cell_type": "code",
      "execution_count": null,
      "metadata": {
        "id": "ASbFCiN7masV",
        "outputId": "750b0cee-2f8b-464b-cfd5-b955dcd10fa1"
      },
      "outputs": [
        {
          "name": "stdout",
          "output_type": "stream",
          "text": [
            "Click\"OK\"\n"
          ]
        }
      ],
      "source": [
        "print('Click\"OK\"')"
      ]
    },
    {
      "cell_type": "markdown",
      "metadata": {
        "id": "-f4jzBbhmasW"
      },
      "source": [
        "Include a plus sign in your line of code to produce *'Big Houses'*."
      ]
    },
    {
      "cell_type": "code",
      "execution_count": null,
      "metadata": {
        "id": "MtNwc0t1masW",
        "outputId": "ac93ca8b-0651-48df-a52b-ec0ee2e1ec95"
      },
      "outputs": [
        {
          "name": "stdout",
          "output_type": "stream",
          "text": [
            "Big Houses\n"
          ]
        }
      ],
      "source": [
        "a,b,c=\"Big\",\" \",\"Houses\"\n",
        "print(a+b+c)"
      ]
    },
    {
      "cell_type": "markdown",
      "metadata": {
        "id": "NOcWbX3ymasW"
      },
      "source": [
        "Include a trailing comma in your line of code to produce *Big Houses*."
      ]
    },
    {
      "cell_type": "code",
      "execution_count": null,
      "metadata": {
        "id": "fKZcK__emasW",
        "outputId": "1c66fc3a-2d26-47e6-d45f-7587e0e1f14c"
      },
      "outputs": [
        {
          "name": "stdout",
          "output_type": "stream",
          "text": [
            "Big Houses\n"
          ]
        }
      ],
      "source": [
        "print(a,c)"
      ]
    }
  ],
  "metadata": {
    "anaconda-cloud": {},
    "kernelspec": {
      "display_name": "Python 3",
      "language": "python",
      "name": "python3"
    },
    "language_info": {
      "codemirror_mode": {
        "name": "ipython",
        "version": 3
      },
      "file_extension": ".py",
      "mimetype": "text/x-python",
      "name": "python",
      "nbconvert_exporter": "python",
      "pygments_lexer": "ipython3",
      "version": "3.7.4"
    },
    "colab": {
      "provenance": [],
      "include_colab_link": true
    }
  },
  "nbformat": 4,
  "nbformat_minor": 0
}