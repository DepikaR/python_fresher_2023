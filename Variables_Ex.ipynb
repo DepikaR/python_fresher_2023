{
  "cells": [
    {
      "cell_type": "markdown",
      "metadata": {
        "id": "view-in-github",
        "colab_type": "text"
      },
      "source": [
        "<a href=\"https://colab.research.google.com/github/DepikaR/python_fresher_2023/blob/main/Variables_Ex.ipynb\" target=\"_parent\"><img src=\"https://colab.research.google.com/assets/colab-badge.svg\" alt=\"Open In Colab\"/></a>"
      ]
    },
    {
      "cell_type": "markdown",
      "metadata": {
        "id": "YuSaynOMayeE"
      },
      "source": [
        "## Variables"
      ]
    },
    {
      "cell_type": "markdown",
      "metadata": {
        "id": "s7c0K8LqayeI"
      },
      "source": [
        "Create a variable with name \"x\" and a value of 10. Execute."
      ]
    },
    {
      "cell_type": "code",
      "execution_count": 3,
      "metadata": {
        "collapsed": true,
        "id": "d3AjzCwZayeI"
      },
      "outputs": [],
      "source": [
        "x=10\n"
      ]
    },
    {
      "cell_type": "markdown",
      "metadata": {
        "id": "FHrolJwNayeL"
      },
      "source": [
        "Tell the computer to show you the value of that variable."
      ]
    },
    {
      "cell_type": "code",
      "execution_count": 4,
      "metadata": {
        "collapsed": true,
        "colab": {
          "base_uri": "https://localhost:8080/"
        },
        "id": "tpbGFA0GayeL",
        "outputId": "7f11c785-0b38-4f8f-eea6-5311e42be439"
      },
      "outputs": [
        {
          "output_type": "execute_result",
          "data": {
            "text/plain": [
              "10"
            ]
          },
          "metadata": {},
          "execution_count": 4
        }
      ],
      "source": [
        "x"
      ]
    },
    {
      "cell_type": "markdown",
      "metadata": {
        "id": "StFb7vUaayeM"
      },
      "source": [
        "Can you think of a second way to obtain the same result?"
      ]
    },
    {
      "cell_type": "code",
      "execution_count": 5,
      "metadata": {
        "collapsed": true,
        "colab": {
          "base_uri": "https://localhost:8080/"
        },
        "id": "99J4hQXsayeN",
        "outputId": "f3065006-1c13-44d1-926c-3c9ec90730b7"
      },
      "outputs": [
        {
          "output_type": "stream",
          "name": "stdout",
          "text": [
            "10\n"
          ]
        }
      ],
      "source": [
        "print(x)"
      ]
    },
    {
      "cell_type": "markdown",
      "metadata": {
        "id": "ybR2ggv1ayeN"
      },
      "source": [
        "On the same line, create four new variables: a,b,c, and d, that are equal to 10, 20, 30, and 40, respectively."
      ]
    },
    {
      "cell_type": "code",
      "execution_count": 6,
      "metadata": {
        "collapsed": true,
        "id": "_eUCLQvTayeO"
      },
      "outputs": [],
      "source": [
        "a,b,c,d=10,20,30,40"
      ]
    },
    {
      "cell_type": "markdown",
      "metadata": {
        "id": "oyIJIUXFayeO"
      },
      "source": [
        "Tell the computer to show you the value corresponding to the variable \"b\"."
      ]
    },
    {
      "cell_type": "code",
      "execution_count": 7,
      "metadata": {
        "collapsed": true,
        "colab": {
          "base_uri": "https://localhost:8080/"
        },
        "id": "dI2AhSPeayeO",
        "outputId": "ed064117-52f7-47b8-b159-43e38ff62f55"
      },
      "outputs": [
        {
          "output_type": "execute_result",
          "data": {
            "text/plain": [
              "20"
            ]
          },
          "metadata": {},
          "execution_count": 7
        }
      ],
      "source": [
        "b"
      ]
    },
    {
      "cell_type": "markdown",
      "metadata": {
        "id": "tWp-l2TBayeP"
      },
      "source": [
        "Do the same for \"d\"."
      ]
    },
    {
      "cell_type": "code",
      "execution_count": 8,
      "metadata": {
        "collapsed": true,
        "colab": {
          "base_uri": "https://localhost:8080/"
        },
        "id": "YUVMx8QPayeP",
        "outputId": "ee672f69-80bc-4911-8446-8ea694b2c53c"
      },
      "outputs": [
        {
          "output_type": "execute_result",
          "data": {
            "text/plain": [
              "40"
            ]
          },
          "metadata": {},
          "execution_count": 8
        }
      ],
      "source": [
        "d"
      ]
    }
  ],
  "metadata": {
    "anaconda-cloud": {},
    "kernelspec": {
      "display_name": "Python 3",
      "language": "python",
      "name": "python3"
    },
    "language_info": {
      "codemirror_mode": {
        "name": "ipython",
        "version": 3
      },
      "file_extension": ".py",
      "mimetype": "text/x-python",
      "name": "python",
      "nbconvert_exporter": "python",
      "pygments_lexer": "ipython3",
      "version": "3.7.4"
    },
    "vscode": {
      "interpreter": {
        "hash": "8a5edab282632443219e051e4ade2d1d5bbc671c781051bf1437897cbdfea0f1"
      }
    },
    "colab": {
      "provenance": [],
      "include_colab_link": true
    }
  },
  "nbformat": 4,
  "nbformat_minor": 0
}