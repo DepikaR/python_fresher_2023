{
  "cells": [
    {
      "cell_type": "markdown",
      "metadata": {
        "id": "view-in-github",
        "colab_type": "text"
      },
      "source": [
        "<a href=\"https://colab.research.google.com/github/DepikaR/python_fresher_2023/blob/main/Numbers_and_Boolean_Values_Ex.ipynb\" target=\"_parent\"><img src=\"https://colab.research.google.com/assets/colab-badge.svg\" alt=\"Open In Colab\"/></a>"
      ]
    },
    {
      "cell_type": "markdown",
      "metadata": {
        "id": "GrMEeDIpep1B"
      },
      "source": [
        "## Numbers and Boolean Values"
      ]
    },
    {
      "cell_type": "markdown",
      "metadata": {
        "id": "mW882LkOep1F"
      },
      "source": [
        "Create a variable equal to \"True\"."
      ]
    },
    {
      "cell_type": "code",
      "execution_count": 1,
      "metadata": {
        "collapsed": true,
        "id": "gJbQ0Bnrep1G"
      },
      "outputs": [],
      "source": [
        "a=\"True\""
      ]
    },
    {
      "cell_type": "markdown",
      "metadata": {
        "id": "US1JyXJhep1H"
      },
      "source": [
        "Check its type."
      ]
    },
    {
      "cell_type": "code",
      "execution_count": 2,
      "metadata": {
        "collapsed": true,
        "colab": {
          "base_uri": "https://localhost:8080/"
        },
        "id": "ONGSrzKLep1I",
        "outputId": "3bae5728-5333-4747-d6eb-98b844c1443d"
      },
      "outputs": [
        {
          "output_type": "execute_result",
          "data": {
            "text/plain": [
              "str"
            ]
          },
          "metadata": {},
          "execution_count": 2
        }
      ],
      "source": [
        "type(a)"
      ]
    },
    {
      "cell_type": "markdown",
      "metadata": {
        "id": "4mgPU7HXep1J"
      },
      "source": [
        "Create a variable equal to 99."
      ]
    },
    {
      "cell_type": "code",
      "execution_count": 3,
      "metadata": {
        "collapsed": true,
        "id": "5rt9A7_Dep1J"
      },
      "outputs": [],
      "source": [
        "x=99"
      ]
    },
    {
      "cell_type": "markdown",
      "metadata": {
        "id": "JTWbdkAqep1J"
      },
      "source": [
        "Check its type."
      ]
    },
    {
      "cell_type": "code",
      "execution_count": 4,
      "metadata": {
        "collapsed": true,
        "colab": {
          "base_uri": "https://localhost:8080/"
        },
        "id": "eB_XEPohep1J",
        "outputId": "e0fccda0-abf6-4ff0-870f-18b066aef4bf"
      },
      "outputs": [
        {
          "output_type": "execute_result",
          "data": {
            "text/plain": [
              "int"
            ]
          },
          "metadata": {},
          "execution_count": 4
        }
      ],
      "source": [
        "type(x)"
      ]
    },
    {
      "cell_type": "markdown",
      "metadata": {
        "id": "Q00H2n0_ep1J"
      },
      "source": [
        "Check the type of the value 0.99."
      ]
    },
    {
      "cell_type": "code",
      "execution_count": 5,
      "metadata": {
        "collapsed": true,
        "colab": {
          "base_uri": "https://localhost:8080/"
        },
        "id": "161Ay4oaep1K",
        "outputId": "2efb5e1a-bda3-4a60-e05c-17a76097bc92"
      },
      "outputs": [
        {
          "output_type": "execute_result",
          "data": {
            "text/plain": [
              "float"
            ]
          },
          "metadata": {},
          "execution_count": 5
        }
      ],
      "source": [
        "y=0.99\n",
        "type(y)"
      ]
    },
    {
      "cell_type": "markdown",
      "metadata": {
        "id": "KHX16niRep1K"
      },
      "source": [
        "Turn 99 into a *float*."
      ]
    },
    {
      "cell_type": "code",
      "execution_count": 6,
      "metadata": {
        "collapsed": true,
        "colab": {
          "base_uri": "https://localhost:8080/"
        },
        "id": "jZJNQMSEep1K",
        "outputId": "0f5043eb-3f16-4d87-d148-2714d8d0e8df"
      },
      "outputs": [
        {
          "output_type": "execute_result",
          "data": {
            "text/plain": [
              "99.0"
            ]
          },
          "metadata": {},
          "execution_count": 6
        }
      ],
      "source": [
        "z=float(x)\n",
        "z"
      ]
    },
    {
      "cell_type": "markdown",
      "metadata": {
        "id": "444vr2OPep1K"
      },
      "source": [
        "Turn 0.99 into an integer. What value did you get?"
      ]
    },
    {
      "cell_type": "code",
      "execution_count": 7,
      "metadata": {
        "colab": {
          "base_uri": "https://localhost:8080/"
        },
        "id": "c5eSj5Edep1K",
        "outputId": "4eb0904f-c73b-4b62-b8ad-1d9dc0d1d4f1"
      },
      "outputs": [
        {
          "output_type": "execute_result",
          "data": {
            "text/plain": [
              "0"
            ]
          },
          "metadata": {},
          "execution_count": 7
        }
      ],
      "source": [
        "w=int(y)\n",
        "w"
      ]
    }
  ],
  "metadata": {
    "anaconda-cloud": {},
    "kernelspec": {
      "display_name": "Python 3",
      "language": "python",
      "name": "python3"
    },
    "language_info": {
      "codemirror_mode": {
        "name": "ipython",
        "version": 3
      },
      "file_extension": ".py",
      "mimetype": "text/x-python",
      "name": "python",
      "nbconvert_exporter": "python",
      "pygments_lexer": "ipython3",
      "version": "3.7.4"
    },
    "colab": {
      "provenance": [],
      "include_colab_link": true
    }
  },
  "nbformat": 4,
  "nbformat_minor": 0
}