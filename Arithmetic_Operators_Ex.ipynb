{
  "cells": [
    {
      "cell_type": "markdown",
      "metadata": {
        "id": "view-in-github",
        "colab_type": "text"
      },
      "source": [
        "<a href=\"https://colab.research.google.com/github/DepikaR/python_fresher_2023/blob/main/Arithmetic_Operators_Ex.ipynb\" target=\"_parent\"><img src=\"https://colab.research.google.com/assets/colab-badge.svg\" alt=\"Open In Colab\"/></a>"
      ]
    },
    {
      "cell_type": "markdown",
      "metadata": {
        "id": "rPyt2pDWqDJB"
      },
      "source": [
        "## Arithmetic operators"
      ]
    },
    {
      "cell_type": "markdown",
      "metadata": {
        "id": "8u2UgN3FqDJE"
      },
      "source": [
        "Combine 15 and 23."
      ]
    },
    {
      "cell_type": "code",
      "execution_count": 1,
      "metadata": {
        "collapsed": true,
        "colab": {
          "base_uri": "https://localhost:8080/"
        },
        "id": "vhWHAPIQqDJF",
        "outputId": "16ab103c-d1b3-444f-82df-03bbec157124"
      },
      "outputs": [
        {
          "output_type": "execute_result",
          "data": {
            "text/plain": [
              "38"
            ]
          },
          "metadata": {},
          "execution_count": 1
        }
      ],
      "source": [
        "a,b=15,23\n",
        "c=a+b\n",
        "c"
      ]
    },
    {
      "cell_type": "markdown",
      "metadata": {
        "id": "fJXEVh2lqDJI"
      },
      "source": [
        "Subtract 50 from 26."
      ]
    },
    {
      "cell_type": "code",
      "execution_count": 2,
      "metadata": {
        "collapsed": true,
        "colab": {
          "base_uri": "https://localhost:8080/"
        },
        "id": "JHnfiUyhqDJI",
        "outputId": "496b99cd-c3c5-48f3-fbbf-fd2df7192833"
      },
      "outputs": [
        {
          "output_type": "execute_result",
          "data": {
            "text/plain": [
              "24"
            ]
          },
          "metadata": {},
          "execution_count": 2
        }
      ],
      "source": [
        "x,y=50,26\n",
        "z=x-y\n",
        "z"
      ]
    },
    {
      "cell_type": "markdown",
      "metadata": {
        "id": "iFKjQ6umqDJJ"
      },
      "source": [
        "Divide 20 by 4."
      ]
    },
    {
      "cell_type": "code",
      "execution_count": 3,
      "metadata": {
        "collapsed": true,
        "colab": {
          "base_uri": "https://localhost:8080/"
        },
        "id": "6jfqxoYHqDJJ",
        "outputId": "f76e9cb2-485e-4247-eb01-7c6352cee22c"
      },
      "outputs": [
        {
          "output_type": "stream",
          "name": "stdout",
          "text": [
            "5.0\n"
          ]
        }
      ],
      "source": [
        "i=20\n",
        "print(i/4)"
      ]
    },
    {
      "cell_type": "markdown",
      "metadata": {
        "id": "9yyCi639qDJK"
      },
      "source": [
        "Divide 22 by 4."
      ]
    },
    {
      "cell_type": "code",
      "execution_count": 4,
      "metadata": {
        "collapsed": true,
        "colab": {
          "base_uri": "https://localhost:8080/"
        },
        "id": "wqN9-X1ZqDJK",
        "outputId": "5b9cd7bd-0b8b-45a2-c631-fcb419b4a23d"
      },
      "outputs": [
        {
          "output_type": "stream",
          "name": "stdout",
          "text": [
            "5.5\n"
          ]
        }
      ],
      "source": [
        "j=22\n",
        "k=j/4\n",
        "print(k)"
      ]
    },
    {
      "cell_type": "markdown",
      "metadata": {
        "id": "7appLJJrqDJK"
      },
      "source": [
        "Obtain the remainder of the division of 22 by 4."
      ]
    },
    {
      "cell_type": "code",
      "execution_count": 5,
      "metadata": {
        "collapsed": true,
        "colab": {
          "base_uri": "https://localhost:8080/"
        },
        "id": "6BP4PsxtqDJK",
        "outputId": "e0b1a14c-1fd3-4846-d484-d88380623b18"
      },
      "outputs": [
        {
          "output_type": "stream",
          "name": "stdout",
          "text": [
            "2\n"
          ]
        }
      ],
      "source": [
        "k=j%4\n",
        "print(k)"
      ]
    },
    {
      "cell_type": "markdown",
      "metadata": {
        "id": "CrpZNDjhqDJL"
      },
      "source": [
        "Divide the float 22 by 4."
      ]
    },
    {
      "cell_type": "code",
      "execution_count": 6,
      "metadata": {
        "collapsed": true,
        "colab": {
          "base_uri": "https://localhost:8080/"
        },
        "id": "Mp6FTZptqDJL",
        "outputId": "126c427d-4dff-414c-e1ac-9e1712c046ae"
      },
      "outputs": [
        {
          "output_type": "execute_result",
          "data": {
            "text/plain": [
              "5.5"
            ]
          },
          "metadata": {},
          "execution_count": 6
        }
      ],
      "source": [
        "l=float(j)\n",
        "m=(l/4)\n",
        "m"
      ]
    },
    {
      "cell_type": "markdown",
      "metadata": {
        "id": "0qcXCxEZqDJL"
      },
      "source": [
        "Multiply 6 by 8."
      ]
    },
    {
      "cell_type": "code",
      "execution_count": 7,
      "metadata": {
        "collapsed": true,
        "colab": {
          "base_uri": "https://localhost:8080/"
        },
        "id": "h7sBSbEIqDJL",
        "outputId": "2c939ccf-a85e-4fb8-859d-fb857b11a258"
      },
      "outputs": [
        {
          "output_type": "stream",
          "name": "stdout",
          "text": [
            "48\n"
          ]
        }
      ],
      "source": [
        "print(6*8)"
      ]
    },
    {
      "cell_type": "markdown",
      "metadata": {
        "id": "FQnVVfNnqDJL"
      },
      "source": [
        "Raise 15 to the power of 2."
      ]
    },
    {
      "cell_type": "code",
      "execution_count": 8,
      "metadata": {
        "collapsed": true,
        "colab": {
          "base_uri": "https://localhost:8080/"
        },
        "id": "Z53AR8HjqDJL",
        "outputId": "0ca28a9c-6dbf-4f6b-fb65-391a9fa09f37"
      },
      "outputs": [
        {
          "output_type": "stream",
          "name": "stdout",
          "text": [
            "225\n"
          ]
        }
      ],
      "source": [
        "print(15 ** 2)"
      ]
    }
  ],
  "metadata": {
    "anaconda-cloud": {},
    "kernelspec": {
      "display_name": "Python 3",
      "language": "python",
      "name": "python3"
    },
    "language_info": {
      "codemirror_mode": {
        "name": "ipython",
        "version": 3
      },
      "file_extension": ".py",
      "mimetype": "text/x-python",
      "name": "python",
      "nbconvert_exporter": "python",
      "pygments_lexer": "ipython3",
      "version": "3.7.4"
    },
    "colab": {
      "provenance": [],
      "include_colab_link": true
    }
  },
  "nbformat": 4,
  "nbformat_minor": 0
}