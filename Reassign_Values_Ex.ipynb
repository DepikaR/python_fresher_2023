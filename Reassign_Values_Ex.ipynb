{
  "cells": [
    {
      "cell_type": "markdown",
      "metadata": {
        "id": "view-in-github",
        "colab_type": "text"
      },
      "source": [
        "<a href=\"https://colab.research.google.com/github/DepikaR/python_fresher_2023/blob/main/Reassign_Values_Ex.ipynb\" target=\"_parent\"><img src=\"https://colab.research.google.com/assets/colab-badge.svg\" alt=\"Open In Colab\"/></a>"
      ]
    },
    {
      "cell_type": "markdown",
      "metadata": {
        "id": "h95JwVTRVoh9"
      },
      "source": [
        "## Reassign Values"
      ]
    },
    {
      "cell_type": "markdown",
      "metadata": {
        "id": "bRPh8whvVoh-"
      },
      "source": [
        "Assign the value of 14 to a variable p."
      ]
    },
    {
      "cell_type": "code",
      "execution_count": 1,
      "metadata": {
        "collapsed": true,
        "id": "zrVphcTUVoh-"
      },
      "outputs": [],
      "source": [
        "p=14"
      ]
    },
    {
      "cell_type": "markdown",
      "metadata": {
        "id": "X2dvkYyrVoh_"
      },
      "source": [
        "Calculate p + 10."
      ]
    },
    {
      "cell_type": "code",
      "execution_count": 2,
      "metadata": {
        "collapsed": true,
        "id": "H8VnCBKAVoh_",
        "outputId": "3ad1d266-b380-4051-a4f0-bd8e43162bb6",
        "colab": {
          "base_uri": "https://localhost:8080/"
        }
      },
      "outputs": [
        {
          "output_type": "execute_result",
          "data": {
            "text/plain": [
              "24"
            ]
          },
          "metadata": {},
          "execution_count": 2
        }
      ],
      "source": [
        "p+10"
      ]
    },
    {
      "cell_type": "markdown",
      "metadata": {
        "id": "2CdoTruFVoh_"
      },
      "source": [
        "Now, assign 30 to the variable p."
      ]
    },
    {
      "cell_type": "code",
      "execution_count": 4,
      "metadata": {
        "collapsed": true,
        "id": "LU4nnjZZVoh_"
      },
      "outputs": [],
      "source": [
        "p=30"
      ]
    },
    {
      "cell_type": "markdown",
      "metadata": {
        "id": "lSpNMSKzVoiA"
      },
      "source": [
        "Calculate p + 10."
      ]
    },
    {
      "cell_type": "code",
      "execution_count": 3,
      "metadata": {
        "collapsed": true,
        "id": "sBNhVwa5VoiA",
        "outputId": "5111c2f9-8751-4716-fa05-ba424fdb78d7",
        "colab": {
          "base_uri": "https://localhost:8080/"
        }
      },
      "outputs": [
        {
          "output_type": "execute_result",
          "data": {
            "text/plain": [
              "24"
            ]
          },
          "metadata": {},
          "execution_count": 3
        }
      ],
      "source": [
        "p+10"
      ]
    },
    {
      "cell_type": "markdown",
      "metadata": {
        "id": "joCdrYiSVoiA"
      },
      "source": [
        "Observe how the value of p is always the last one you have assigned."
      ]
    }
  ],
  "metadata": {
    "anaconda-cloud": {},
    "kernelspec": {
      "display_name": "Python 3",
      "language": "python",
      "name": "python3"
    },
    "language_info": {
      "codemirror_mode": {
        "name": "ipython",
        "version": 3
      },
      "file_extension": ".py",
      "mimetype": "text/x-python",
      "name": "python",
      "nbconvert_exporter": "python",
      "pygments_lexer": "ipython3",
      "version": "3.7.4"
    },
    "colab": {
      "provenance": [],
      "include_colab_link": true
    }
  },
  "nbformat": 4,
  "nbformat_minor": 0
}